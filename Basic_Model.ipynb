{
  "nbformat": 4,
  "nbformat_minor": 0,
  "metadata": {
    "colab": {
      "name": "Assignment_Part 1.ipynb",
      "version": "0.3.2",
      "provenance": [],
      "collapsed_sections": []
    },
    "kernelspec": {
      "name": "python3",
      "display_name": "Python 3"
    }
  },
  "cells": [
    {
      "metadata": {
        "id": "0RJCgujj3SUi",
        "colab_type": "code",
        "outputId": "b0fb2ab3-d1f4-4803-f4e9-ee890184676a",
        "colab": {
          "base_uri": "https://localhost:8080/",
          "height": 224
        }
      },
      "cell_type": "code",
      "source": [
        "!wget https://storage.googleapis.com/nicksdemobucket/housing-data.csv"
      ],
      "execution_count": 0,
      "outputs": [
        {
          "output_type": "stream",
          "text": [
            "--2019-03-28 13:27:47--  https://storage.googleapis.com/nicksdemobucket/housing-data.csv\n",
            "Resolving storage.googleapis.com (storage.googleapis.com)... 74.125.20.128, 2607:f8b0:400e:c07::80\n",
            "Connecting to storage.googleapis.com (storage.googleapis.com)|74.125.20.128|:443... connected.\n",
            "HTTP request sent, awaiting response... 200 OK\n",
            "Length: 816 [application/octet-stream]\n",
            "Saving to: ‘housing-data.csv’\n",
            "\n",
            "\rhousing-data.csv      0%[                    ]       0  --.-KB/s               \rhousing-data.csv    100%[===================>]     816  --.-KB/s    in 0s      \n",
            "\n",
            "2019-03-28 13:27:47 (16.2 MB/s) - ‘housing-data.csv’ saved [816/816]\n",
            "\n"
          ],
          "name": "stdout"
        }
      ]
    },
    {
      "metadata": {
        "id": "JLKsuiVj9MUM",
        "colab_type": "code",
        "outputId": "75e1b5b0-4c76-4f3c-f094-e5ef628145a7",
        "colab": {
          "base_uri": "https://localhost:8080/",
          "height": 204
        }
      },
      "cell_type": "code",
      "source": [
        "import pandas as pd \n",
        "df = pd.read_csv('housing-data.csv')\n",
        "df.head()"
      ],
      "execution_count": 0,
      "outputs": [
        {
          "output_type": "execute_result",
          "data": {
            "text/html": [
              "<div>\n",
              "<style scoped>\n",
              "    .dataframe tbody tr th:only-of-type {\n",
              "        vertical-align: middle;\n",
              "    }\n",
              "\n",
              "    .dataframe tbody tr th {\n",
              "        vertical-align: top;\n",
              "    }\n",
              "\n",
              "    .dataframe thead th {\n",
              "        text-align: right;\n",
              "    }\n",
              "</style>\n",
              "<table border=\"1\" class=\"dataframe\">\n",
              "  <thead>\n",
              "    <tr style=\"text-align: right;\">\n",
              "      <th></th>\n",
              "      <th>sqft</th>\n",
              "      <th>bdrms</th>\n",
              "      <th>age</th>\n",
              "      <th>price</th>\n",
              "    </tr>\n",
              "  </thead>\n",
              "  <tbody>\n",
              "    <tr>\n",
              "      <th>0</th>\n",
              "      <td>2104</td>\n",
              "      <td>3</td>\n",
              "      <td>70</td>\n",
              "      <td>399900</td>\n",
              "    </tr>\n",
              "    <tr>\n",
              "      <th>1</th>\n",
              "      <td>1600</td>\n",
              "      <td>3</td>\n",
              "      <td>28</td>\n",
              "      <td>329900</td>\n",
              "    </tr>\n",
              "    <tr>\n",
              "      <th>2</th>\n",
              "      <td>2400</td>\n",
              "      <td>3</td>\n",
              "      <td>44</td>\n",
              "      <td>369000</td>\n",
              "    </tr>\n",
              "    <tr>\n",
              "      <th>3</th>\n",
              "      <td>1416</td>\n",
              "      <td>2</td>\n",
              "      <td>49</td>\n",
              "      <td>232000</td>\n",
              "    </tr>\n",
              "    <tr>\n",
              "      <th>4</th>\n",
              "      <td>3000</td>\n",
              "      <td>4</td>\n",
              "      <td>75</td>\n",
              "      <td>539900</td>\n",
              "    </tr>\n",
              "  </tbody>\n",
              "</table>\n",
              "</div>"
            ],
            "text/plain": [
              "   sqft  bdrms  age   price\n",
              "0  2104      3   70  399900\n",
              "1  1600      3   28  329900\n",
              "2  2400      3   44  369000\n",
              "3  1416      2   49  232000\n",
              "4  3000      4   75  539900"
            ]
          },
          "metadata": {
            "tags": []
          },
          "execution_count": 2
        }
      ]
    },
    {
      "metadata": {
        "id": "OLl4yDXr9b-y",
        "colab_type": "code",
        "outputId": "ea3956d4-e5e0-4954-beea-9911279e2c57",
        "colab": {
          "base_uri": "https://localhost:8080/",
          "height": 34
        }
      },
      "cell_type": "code",
      "source": [
        "features = df.drop(['price'],axis = 1).values\n",
        "labels = df[['price']].values\n",
        "print(features.shape,labels.shape)"
      ],
      "execution_count": 0,
      "outputs": [
        {
          "output_type": "stream",
          "text": [
            "(47, 3) (47, 1)\n"
          ],
          "name": "stdout"
        }
      ]
    },
    {
      "metadata": {
        "id": "L61ec47I9ufo",
        "colab_type": "code",
        "colab": {}
      },
      "cell_type": "code",
      "source": [
        "from tensorflow.keras.models import Sequential\n",
        "from tensorflow.keras.layers import Dense"
      ],
      "execution_count": 0,
      "outputs": []
    },
    {
      "metadata": {
        "id": "hlI9cK_7977v",
        "colab_type": "code",
        "outputId": "82f2d8fa-1152-40c4-a2dc-78ce28b804f3",
        "colab": {
          "base_uri": "https://localhost:8080/",
          "height": 799
        }
      },
      "cell_type": "code",
      "source": [
        "model = Sequential()\n",
        "model.add(Dense(12,activation = 'relu',input_shape=(3,)))\n",
        "model.add(Dense(12,activation = 'relu'))\n",
        "model.add(Dense(1,activation = 'relu'))\n",
        "\n",
        "model.compile(optimizer = 'adam',\n",
        "              loss = 'MSE',\n",
        "              metrics = ['mean_absolute_error'])\n",
        "\n",
        "h = model.fit(features, labels, epochs=18, validation_split=0.2)"
      ],
      "execution_count": 0,
      "outputs": [
        {
          "output_type": "stream",
          "text": [
            "WARNING:tensorflow:From /usr/local/lib/python3.6/dist-packages/tensorflow/python/ops/resource_variable_ops.py:435: colocate_with (from tensorflow.python.framework.ops) is deprecated and will be removed in a future version.\n",
            "Instructions for updating:\n",
            "Colocations handled automatically by placer.\n",
            "WARNING:tensorflow:From /usr/local/lib/python3.6/dist-packages/tensorflow/python/keras/utils/losses_utils.py:170: to_float (from tensorflow.python.ops.math_ops) is deprecated and will be removed in a future version.\n",
            "Instructions for updating:\n",
            "Use tf.cast instead.\n",
            "Train on 37 samples, validate on 10 samples\n",
            "WARNING:tensorflow:From /usr/local/lib/python3.6/dist-packages/tensorflow/python/ops/math_ops.py:3066: to_int32 (from tensorflow.python.ops.math_ops) is deprecated and will be removed in a future version.\n",
            "Instructions for updating:\n",
            "Use tf.cast instead.\n",
            "Epoch 1/18\n",
            "37/37 [==============================] - 0s 4ms/sample - loss: 136445361954.5946 - mean_absolute_error: 345542.2188 - val_loss: 111448293376.0000 - val_mean_absolute_error: 321086.3438\n",
            "Epoch 2/18\n",
            "37/37 [==============================] - 0s 219us/sample - loss: 136434936416.8649 - mean_absolute_error: 345529.0000 - val_loss: 111438766080.0000 - val_mean_absolute_error: 321073.0312\n",
            "Epoch 3/18\n",
            "37/37 [==============================] - 0s 198us/sample - loss: 136424763281.2973 - mean_absolute_error: 345515.8438 - val_loss: 111429107712.0000 - val_mean_absolute_error: 321059.5000\n",
            "Epoch 4/18\n",
            "37/37 [==============================] - 0s 232us/sample - loss: 136413932793.0811 - mean_absolute_error: 345502.0938 - val_loss: 111419260928.0000 - val_mean_absolute_error: 321045.7188\n",
            "Epoch 5/18\n",
            "37/37 [==============================] - 0s 222us/sample - loss: 136403516554.3784 - mean_absolute_error: 345488.5000 - val_loss: 111409209344.0000 - val_mean_absolute_error: 321031.6562\n",
            "Epoch 6/18\n",
            "37/37 [==============================] - 0s 223us/sample - loss: 136392835736.2162 - mean_absolute_error: 345474.6562 - val_loss: 111399116800.0000 - val_mean_absolute_error: 321017.5000\n",
            "Epoch 7/18\n",
            "37/37 [==============================] - 0s 232us/sample - loss: 136381046119.7838 - mean_absolute_error: 345460.0625 - val_loss: 111388893184.0000 - val_mean_absolute_error: 321003.1875\n",
            "Epoch 8/18\n",
            "37/37 [==============================] - 0s 230us/sample - loss: 136370674162.1622 - mean_absolute_error: 345446.2812 - val_loss: 111378456576.0000 - val_mean_absolute_error: 320988.6250\n",
            "Epoch 9/18\n",
            "37/37 [==============================] - 0s 223us/sample - loss: 136359569352.6487 - mean_absolute_error: 345431.7500 - val_loss: 111368028160.0000 - val_mean_absolute_error: 320973.9688\n",
            "Epoch 10/18\n",
            "37/37 [==============================] - 0s 233us/sample - loss: 136347891988.7568 - mean_absolute_error: 345417.0938 - val_loss: 111357476864.0000 - val_mean_absolute_error: 320959.2188\n",
            "Epoch 11/18\n",
            "37/37 [==============================] - 0s 226us/sample - loss: 136336103036.5406 - mean_absolute_error: 345402.1562 - val_loss: 111346597888.0000 - val_mean_absolute_error: 320944.0000\n",
            "Epoch 12/18\n",
            "37/37 [==============================] - 0s 224us/sample - loss: 136324841472.0000 - mean_absolute_error: 345387.1875 - val_loss: 111335464960.0000 - val_mean_absolute_error: 320928.4062\n",
            "Epoch 13/18\n",
            "37/37 [==============================] - 0s 222us/sample - loss: 136312810302.2703 - mean_absolute_error: 345371.7188 - val_loss: 111324250112.0000 - val_mean_absolute_error: 320912.6875\n",
            "Epoch 14/18\n",
            "37/37 [==============================] - 0s 199us/sample - loss: 136300365547.2432 - mean_absolute_error: 345355.9062 - val_loss: 111312830464.0000 - val_mean_absolute_error: 320896.6875\n",
            "Epoch 15/18\n",
            "37/37 [==============================] - 0s 227us/sample - loss: 136288310908.5406 - mean_absolute_error: 345340.2812 - val_loss: 111301206016.0000 - val_mean_absolute_error: 320880.4062\n",
            "Epoch 16/18\n",
            "37/37 [==============================] - 0s 239us/sample - loss: 136276014937.9459 - mean_absolute_error: 345324.2500 - val_loss: 111289540608.0000 - val_mean_absolute_error: 320864.0625\n",
            "Epoch 17/18\n",
            "37/37 [==============================] - 0s 210us/sample - loss: 136263618670.7027 - mean_absolute_error: 345308.0625 - val_loss: 111278006272.0000 - val_mean_absolute_error: 320847.9375\n",
            "Epoch 18/18\n",
            "37/37 [==============================] - 0s 188us/sample - loss: 136250928819.8919 - mean_absolute_error: 345291.9062 - val_loss: 111266521088.0000 - val_mean_absolute_error: 320831.8125\n"
          ],
          "name": "stdout"
        }
      ]
    },
    {
      "metadata": {
        "id": "dTeQ_CEN_dun",
        "colab_type": "code",
        "outputId": "ed6cfb5d-8caf-4f47-9aa2-159201d177d7",
        "colab": {
          "base_uri": "https://localhost:8080/",
          "height": 34
        }
      },
      "cell_type": "code",
      "source": [
        "h.history.keys()"
      ],
      "execution_count": 0,
      "outputs": [
        {
          "output_type": "execute_result",
          "data": {
            "text/plain": [
              "dict_keys(['loss', 'mean_absolute_error', 'val_loss', 'val_mean_absolute_error'])"
            ]
          },
          "metadata": {
            "tags": []
          },
          "execution_count": 6
        }
      ]
    },
    {
      "metadata": {
        "id": "Cs1a2Q4L_jme",
        "colab_type": "code",
        "outputId": "a8e42f0f-3cda-4884-ae3e-727003ab3ce7",
        "colab": {
          "base_uri": "https://localhost:8080/",
          "height": 375
        }
      },
      "cell_type": "code",
      "source": [
        "import matplotlib.pyplot as plt\n",
        "plt.plot(h.history['loss'])"
      ],
      "execution_count": 0,
      "outputs": [
        {
          "output_type": "execute_result",
          "data": {
            "text/plain": [
              "[<matplotlib.lines.Line2D at 0x7f1300cdfa90>]"
            ]
          },
          "metadata": {
            "tags": []
          },
          "execution_count": 7
        },
        {
          "output_type": "display_data",
          "data": {
            "image/png": "[encoded data removed]",
            "text/plain": [
              "<Figure size 576x396 with 1 Axes>"
            ]
          },
          "metadata": {
            "tags": []
          }
        }
      ]
    }
  ]
}