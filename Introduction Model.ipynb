{
  "nbformat": 4,
  "nbformat_minor": 0,
  "metadata": {
    "colab": {
      "name": "Practical Machine Learning_1.ipynb",
      "version": "0.3.2",
      "provenance": [],
      "collapsed_sections": []
    },
    "kernelspec": {
      "name": "python3",
      "display_name": "Python 3"
    }
  },
  "cells": [
    {
      "metadata": {
        "id": "OPORyd65mVjv",
        "colab_type": "code",
        "outputId": "877e7759-c988-46ee-9d4d-2a7e7c46bf89",
        "colab": {
          "base_uri": "https://localhost:8080/",
          "height": 204
        }
      },
      "cell_type": "code",
      "source": [
        "!wget https://storage.googleapis.com/nicksdemobucket/wines.csv"
      ],
      "execution_count": 1,
      "outputs": [
        {
          "output_type": "stream",
          "text": [
            "--2019-04-28 14:29:28--  https://storage.googleapis.com/nicksdemobucket/wines.csv\n",
            "Resolving storage.googleapis.com (storage.googleapis.com)... 74.125.141.128, 2607:f8b0:400c:c06::80\n",
            "Connecting to storage.googleapis.com (storage.googleapis.com)|74.125.141.128|:443... connected.\n",
            "HTTP request sent, awaiting response... 200 OK\n",
            "Length: 10957 (11K) [application/octet-stream]\n",
            "Saving to: ‘wines.csv’\n",
            "\n",
            "wines.csv           100%[===================>]  10.70K  --.-KB/s    in 0s      \n",
            "\n",
            "2019-04-28 14:29:33 (71.9 MB/s) - ‘wines.csv’ saved [10957/10957]\n",
            "\n"
          ],
          "name": "stdout"
        }
      ]
    },
    {
      "metadata": {
        "id": "blfIRD92m5Es",
        "colab_type": "code",
        "outputId": "325208fe-6372-4836-f8a8-71abef13ff04",
        "colab": {
          "base_uri": "https://localhost:8080/",
          "height": 241
        }
      },
      "cell_type": "code",
      "source": [
        "import pandas as pd\n",
        "df = pd.read_csv('wines.csv')\n",
        "df.head()"
      ],
      "execution_count": 2,
      "outputs": [
        {
          "output_type": "execute_result",
          "data": {
            "text/html": [
              "<div>\n",
              "<style scoped>\n",
              "    .dataframe tbody tr th:only-of-type {\n",
              "        vertical-align: middle;\n",
              "    }\n",
              "\n",
              "    .dataframe tbody tr th {\n",
              "        vertical-align: top;\n",
              "    }\n",
              "\n",
              "    .dataframe thead th {\n",
              "        text-align: right;\n",
              "    }\n",
              "</style>\n",
              "<table border=\"1\" class=\"dataframe\">\n",
              "  <thead>\n",
              "    <tr style=\"text-align: right;\">\n",
              "      <th></th>\n",
              "      <th>Class</th>\n",
              "      <th>Alcohol</th>\n",
              "      <th>Malic_acid</th>\n",
              "      <th>Ash</th>\n",
              "      <th>Alcalinity_of_ash</th>\n",
              "      <th>Magnesium</th>\n",
              "      <th>Total_phenols</th>\n",
              "      <th>Flavanoids</th>\n",
              "      <th>Nonflavanoid_phenols</th>\n",
              "      <th>Proanthocyanins</th>\n",
              "      <th>Color_intensity</th>\n",
              "      <th>Hue</th>\n",
              "      <th>OD280-OD315_of_diluted_wines</th>\n",
              "      <th>Proline</th>\n",
              "    </tr>\n",
              "  </thead>\n",
              "  <tbody>\n",
              "    <tr>\n",
              "      <th>0</th>\n",
              "      <td>1</td>\n",
              "      <td>14.23</td>\n",
              "      <td>1.71</td>\n",
              "      <td>2.43</td>\n",
              "      <td>15.6</td>\n",
              "      <td>127</td>\n",
              "      <td>2.80</td>\n",
              "      <td>3.06</td>\n",
              "      <td>0.28</td>\n",
              "      <td>2.29</td>\n",
              "      <td>5.64</td>\n",
              "      <td>1.04</td>\n",
              "      <td>3.92</td>\n",
              "      <td>1065</td>\n",
              "    </tr>\n",
              "    <tr>\n",
              "      <th>1</th>\n",
              "      <td>1</td>\n",
              "      <td>13.20</td>\n",
              "      <td>1.78</td>\n",
              "      <td>2.14</td>\n",
              "      <td>11.2</td>\n",
              "      <td>100</td>\n",
              "      <td>2.65</td>\n",
              "      <td>2.76</td>\n",
              "      <td>0.26</td>\n",
              "      <td>1.28</td>\n",
              "      <td>4.38</td>\n",
              "      <td>1.05</td>\n",
              "      <td>3.40</td>\n",
              "      <td>1050</td>\n",
              "    </tr>\n",
              "    <tr>\n",
              "      <th>2</th>\n",
              "      <td>1</td>\n",
              "      <td>13.16</td>\n",
              "      <td>2.36</td>\n",
              "      <td>2.67</td>\n",
              "      <td>18.6</td>\n",
              "      <td>101</td>\n",
              "      <td>2.80</td>\n",
              "      <td>3.24</td>\n",
              "      <td>0.30</td>\n",
              "      <td>2.81</td>\n",
              "      <td>5.68</td>\n",
              "      <td>1.03</td>\n",
              "      <td>3.17</td>\n",
              "      <td>1185</td>\n",
              "    </tr>\n",
              "    <tr>\n",
              "      <th>3</th>\n",
              "      <td>1</td>\n",
              "      <td>14.37</td>\n",
              "      <td>1.95</td>\n",
              "      <td>2.50</td>\n",
              "      <td>16.8</td>\n",
              "      <td>113</td>\n",
              "      <td>3.85</td>\n",
              "      <td>3.49</td>\n",
              "      <td>0.24</td>\n",
              "      <td>2.18</td>\n",
              "      <td>7.80</td>\n",
              "      <td>0.86</td>\n",
              "      <td>3.45</td>\n",
              "      <td>1480</td>\n",
              "    </tr>\n",
              "    <tr>\n",
              "      <th>4</th>\n",
              "      <td>1</td>\n",
              "      <td>13.24</td>\n",
              "      <td>2.59</td>\n",
              "      <td>2.87</td>\n",
              "      <td>21.0</td>\n",
              "      <td>118</td>\n",
              "      <td>2.80</td>\n",
              "      <td>2.69</td>\n",
              "      <td>0.39</td>\n",
              "      <td>1.82</td>\n",
              "      <td>4.32</td>\n",
              "      <td>1.04</td>\n",
              "      <td>2.93</td>\n",
              "      <td>735</td>\n",
              "    </tr>\n",
              "  </tbody>\n",
              "</table>\n",
              "</div>"
            ],
            "text/plain": [
              "   Class  Alcohol  Malic_acid   Ash  Alcalinity_of_ash  Magnesium  \\\n",
              "0      1    14.23        1.71  2.43               15.6        127   \n",
              "1      1    13.20        1.78  2.14               11.2        100   \n",
              "2      1    13.16        2.36  2.67               18.6        101   \n",
              "3      1    14.37        1.95  2.50               16.8        113   \n",
              "4      1    13.24        2.59  2.87               21.0        118   \n",
              "\n",
              "   Total_phenols  Flavanoids  Nonflavanoid_phenols  Proanthocyanins  \\\n",
              "0           2.80        3.06                  0.28             2.29   \n",
              "1           2.65        2.76                  0.26             1.28   \n",
              "2           2.80        3.24                  0.30             2.81   \n",
              "3           3.85        3.49                  0.24             2.18   \n",
              "4           2.80        2.69                  0.39             1.82   \n",
              "\n",
              "   Color_intensity   Hue  OD280-OD315_of_diluted_wines  Proline  \n",
              "0             5.64  1.04                          3.92     1065  \n",
              "1             4.38  1.05                          3.40     1050  \n",
              "2             5.68  1.03                          3.17     1185  \n",
              "3             7.80  0.86                          3.45     1480  \n",
              "4             4.32  1.04                          2.93      735  "
            ]
          },
          "metadata": {
            "tags": []
          },
          "execution_count": 2
        }
      ]
    },
    {
      "metadata": {
        "id": "gr_SK7GHoSp6",
        "colab_type": "code",
        "outputId": "82622c37-5ff8-430d-cf69-f2d208052de0",
        "colab": {
          "base_uri": "https://localhost:8080/",
          "height": 34
        }
      },
      "cell_type": "code",
      "source": [
        "features = df.drop(['Malic_acid'], axis=1).values\n",
        "labels = df[['Malic_acid']].values\n",
        "print(features.shape, labels.shape)"
      ],
      "execution_count": 3,
      "outputs": [
        {
          "output_type": "stream",
          "text": [
            "(178, 13) (178, 1)\n"
          ],
          "name": "stdout"
        }
      ]
    },
    {
      "metadata": {
        "id": "CJWjnVvjo81y",
        "colab_type": "code",
        "colab": {}
      },
      "cell_type": "code",
      "source": [
        "from tensorflow.keras.models import Sequential\n",
        "from tensorflow.keras.layers import Dense"
      ],
      "execution_count": 0,
      "outputs": []
    },
    {
      "metadata": {
        "id": "bpg9aGgbpfUa",
        "colab_type": "code",
        "outputId": "c354c562-4fae-47fb-9edf-ec1959efd4d7",
        "colab": {
          "base_uri": "https://localhost:8080/",
          "height": 717
        }
      },
      "cell_type": "code",
      "source": [
        "model = Sequential()\n",
        "model.add(Dense(16,activation = 'relu',input_shape=(13,)))\n",
        "model.add(Dense(32,activation = 'relu'))\n",
        "model.add(Dense(1, activation='sigmoid'))\n",
        "          \n",
        "model.compile(optimizer = 'adam',\n",
        "              loss = 'MSE',\n",
        "              metrics = ['mean_absolute_error'])\n",
        "\n",
        "h = model.fit(features, labels, epochs=15, validation_split=0.2)"
      ],
      "execution_count": 5,
      "outputs": [
        {
          "output_type": "stream",
          "text": [
            "WARNING:tensorflow:From /usr/local/lib/python3.6/dist-packages/tensorflow/python/ops/resource_variable_ops.py:435: colocate_with (from tensorflow.python.framework.ops) is deprecated and will be removed in a future version.\n",
            "Instructions for updating:\n",
            "Colocations handled automatically by placer.\n",
            "WARNING:tensorflow:From /usr/local/lib/python3.6/dist-packages/tensorflow/python/keras/utils/losses_utils.py:170: to_float (from tensorflow.python.ops.math_ops) is deprecated and will be removed in a future version.\n",
            "Instructions for updating:\n",
            "Use tf.cast instead.\n",
            "Train on 142 samples, validate on 36 samples\n",
            "WARNING:tensorflow:From /usr/local/lib/python3.6/dist-packages/tensorflow/python/ops/math_ops.py:3066: to_int32 (from tensorflow.python.ops.math_ops) is deprecated and will be removed in a future version.\n",
            "Instructions for updating:\n",
            "Use tf.cast instead.\n",
            "Epoch 1/15\n",
            "142/142 [==============================] - 0s 2ms/sample - loss: 2.0187 - mean_absolute_error: 1.0655 - val_loss: 7.0035 - val_mean_absolute_error: 2.4436\n",
            "Epoch 2/15\n",
            "142/142 [==============================] - 0s 101us/sample - loss: 2.0187 - mean_absolute_error: 1.0655 - val_loss: 7.0035 - val_mean_absolute_error: 2.4436\n",
            "Epoch 3/15\n",
            "142/142 [==============================] - 0s 114us/sample - loss: 2.0187 - mean_absolute_error: 1.0655 - val_loss: 7.0035 - val_mean_absolute_error: 2.4436\n",
            "Epoch 4/15\n",
            "142/142 [==============================] - 0s 107us/sample - loss: 2.0187 - mean_absolute_error: 1.0655 - val_loss: 7.0035 - val_mean_absolute_error: 2.4436\n",
            "Epoch 5/15\n",
            "142/142 [==============================] - 0s 91us/sample - loss: 2.0187 - mean_absolute_error: 1.0655 - val_loss: 7.0035 - val_mean_absolute_error: 2.4436\n",
            "Epoch 6/15\n",
            "142/142 [==============================] - 0s 88us/sample - loss: 2.0187 - mean_absolute_error: 1.0655 - val_loss: 7.0035 - val_mean_absolute_error: 2.4436\n",
            "Epoch 7/15\n",
            "142/142 [==============================] - 0s 76us/sample - loss: 2.0187 - mean_absolute_error: 1.0655 - val_loss: 7.0035 - val_mean_absolute_error: 2.4436\n",
            "Epoch 8/15\n",
            "142/142 [==============================] - 0s 85us/sample - loss: 2.0187 - mean_absolute_error: 1.0655 - val_loss: 7.0035 - val_mean_absolute_error: 2.4436\n",
            "Epoch 9/15\n",
            "142/142 [==============================] - 0s 77us/sample - loss: 2.0187 - mean_absolute_error: 1.0655 - val_loss: 7.0035 - val_mean_absolute_error: 2.4436\n",
            "Epoch 10/15\n",
            "142/142 [==============================] - 0s 93us/sample - loss: 2.0187 - mean_absolute_error: 1.0655 - val_loss: 7.0035 - val_mean_absolute_error: 2.4436\n",
            "Epoch 11/15\n",
            "142/142 [==============================] - 0s 84us/sample - loss: 2.0187 - mean_absolute_error: 1.0655 - val_loss: 7.0035 - val_mean_absolute_error: 2.4436\n",
            "Epoch 12/15\n",
            "142/142 [==============================] - 0s 108us/sample - loss: 2.0187 - mean_absolute_error: 1.0655 - val_loss: 7.0035 - val_mean_absolute_error: 2.4436\n",
            "Epoch 13/15\n",
            "142/142 [==============================] - 0s 76us/sample - loss: 2.0187 - mean_absolute_error: 1.0655 - val_loss: 7.0035 - val_mean_absolute_error: 2.4436\n",
            "Epoch 14/15\n",
            "142/142 [==============================] - 0s 92us/sample - loss: 2.0187 - mean_absolute_error: 1.0655 - val_loss: 7.0035 - val_mean_absolute_error: 2.4436\n",
            "Epoch 15/15\n",
            "142/142 [==============================] - 0s 86us/sample - loss: 2.0187 - mean_absolute_error: 1.0655 - val_loss: 7.0035 - val_mean_absolute_error: 2.4436\n"
          ],
          "name": "stdout"
        }
      ]
    },
    {
      "metadata": {
        "id": "8uoPoYBZrESj",
        "colab_type": "code",
        "outputId": "409cd9e4-6b7a-48a4-e1bc-4b853aca58c9",
        "colab": {
          "base_uri": "https://localhost:8080/",
          "height": 34
        }
      },
      "cell_type": "code",
      "source": [
        "h.history.keys()"
      ],
      "execution_count": 6,
      "outputs": [
        {
          "output_type": "execute_result",
          "data": {
            "text/plain": [
              "dict_keys(['loss', 'mean_absolute_error', 'val_loss', 'val_mean_absolute_error'])"
            ]
          },
          "metadata": {
            "tags": []
          },
          "execution_count": 6
        }
      ]
    },
    {
      "metadata": {
        "id": "k3eRuQZ9rL0j",
        "colab_type": "code",
        "outputId": "78e54c4f-0ce9-4ca1-dd43-dee980376c71",
        "colab": {
          "base_uri": "https://localhost:8080/",
          "height": 293
        }
      },
      "cell_type": "code",
      "source": [
        "import matplotlib.pyplot as plt\n",
        "plt.plot(h.history['loss'])"
      ],
      "execution_count": 7,
      "outputs": [
        {
          "output_type": "execute_result",
          "data": {
            "text/plain": [
              "[<matplotlib.lines.Line2D at 0x7f00ceb77828>]"
            ]
          },
          "metadata": {
            "tags": []
          },
          "execution_count": 7
        },
        {
          "output_type": "display_data",
          "data": {
            "image/png": "[encoded data removed]",
            "text/plain": [
              "<Figure size 432x288 with 1 Axes>"
            ]
          },
          "metadata": {
            "tags": []
          }
        }
      ]
    },
    {
      "metadata": {
        "id": "CwSX4rNfr4vm",
        "colab_type": "code",
        "outputId": "229e99d2-4225-4cba-ad86-d11f515801e2",
        "colab": {
          "base_uri": "https://localhost:8080/",
          "height": 238
        }
      },
      "cell_type": "code",
      "source": [
        "model.summary()"
      ],
      "execution_count": 8,
      "outputs": [
        {
          "output_type": "stream",
          "text": [
            "_________________________________________________________________\n",
            "Layer (type)                 Output Shape              Param #   \n",
            "=================================================================\n",
            "dense (Dense)                (None, 16)                224       \n",
            "_________________________________________________________________\n",
            "dense_1 (Dense)              (None, 32)                544       \n",
            "_________________________________________________________________\n",
            "dense_2 (Dense)              (None, 1)                 33        \n",
            "=================================================================\n",
            "Total params: 801\n",
            "Trainable params: 801\n",
            "Non-trainable params: 0\n",
            "_________________________________________________________________\n"
          ],
          "name": "stdout"
        }
      ]
    },
    {
      "metadata": {
        "id": "1Pd_PQe1sS5Z",
        "colab_type": "code",
        "colab": {}
      },
      "cell_type": "code",
      "source": [
        "model.save('my_good.h5')"
      ],
      "execution_count": 0,
      "outputs": []
    }
  ]
}