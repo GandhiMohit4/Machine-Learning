{
  "nbformat": 4,
  "nbformat_minor": 0,
  "metadata": {
    "colab": {
      "name": "SGD Assignment4-Hyper Parameters.ipynb",
      "version": "0.3.2",
      "provenance": [],
      "collapsed_sections": []
    },
    "kernelspec": {
      "name": "python3",
      "display_name": "Python 3"
    },
    "accelerator": "TPU"
  },
  "cells": [
    {
      "metadata": {
        "id": "ev-CE2Vv2kXb",
        "colab_type": "code",
        "colab": {}
      },
      "cell_type": "code",
      "source": [
        "# TensorFlow and tf.keras\n",
        "import tensorflow as tf\n",
        "from tensorflow import keras\n",
        "\n",
        "# Helper libraries\n",
        "import numpy as np\n",
        "import matplotlib.pyplot as plt\n",
        "from keras import regularizers\n",
        "from keras.optimizers import Adam\n",
        "from keras.optimizers import SGD\n",
        "from keras.optimizers import RMSprop\n",
        "\n",
        "from tensorflow.keras.models import Sequential\n",
        "from tensorflow.keras.layers import Dense"
      ],
      "execution_count": 0,
      "outputs": []
    },
    {
      "metadata": {
        "id": "EykfuX4Z3PSJ",
        "colab_type": "code",
        "colab": {}
      },
      "cell_type": "code",
      "source": [
        "fashion_mnist = keras.datasets.fashion_mnist\n",
        "\n",
        "(train_images, train_labels), (test_images, test_labels) = fashion_mnist.load_data()"
      ],
      "execution_count": 0,
      "outputs": []
    },
    {
      "metadata": {
        "id": "kiA1yRNl9zBI",
        "colab_type": "code",
        "colab": {}
      },
      "cell_type": "code",
      "source": [
        "class_names = ['T-shirt/top', 'Trouser', 'Pullover', 'Dress', 'Coat', \n",
        "               'Sandal', 'Shirt', 'Sneaker', 'Bag', 'Ankle boot']"
      ],
      "execution_count": 0,
      "outputs": []
    },
    {
      "metadata": {
        "id": "URi_dhmP91pw",
        "colab_type": "code",
        "outputId": "feb40648-79a1-4e03-d665-667d243806ca",
        "colab": {
          "base_uri": "https://localhost:8080/",
          "height": 34
        }
      },
      "cell_type": "code",
      "source": [
        "train_images.shape"
      ],
      "execution_count": 0,
      "outputs": [
        {
          "output_type": "execute_result",
          "data": {
            "text/plain": [
              "(60000, 28, 28)"
            ]
          },
          "metadata": {
            "tags": []
          },
          "execution_count": 79
        }
      ]
    },
    {
      "metadata": {
        "id": "-pWby7LqW5SZ",
        "colab_type": "code",
        "colab": {}
      },
      "cell_type": "code",
      "source": [
        "train_images = train_images / 255.0\n",
        "\n",
        "test_images = test_images / 255.0\n"
      ],
      "execution_count": 0,
      "outputs": []
    },
    {
      "metadata": {
        "id": "w_GIehHdXAKh",
        "colab_type": "code",
        "outputId": "3b641309-ede2-418d-b939-a8254e3ec422",
        "colab": {
          "base_uri": "https://localhost:8080/",
          "height": 187
        }
      },
      "cell_type": "code",
      "source": [
        "model = Sequential()\n",
        "model.add(keras.layers.Flatten(input_shape=(28, 28)))\n",
        "model.add(Dense(256,activation = 'relu'))\n",
        "model.add(Dense(128,activation = 'relu'))\n",
        "model.add(Dense(10,activation = 'softmax'))\n",
        "\n",
        "learning_rate = 0.1\n",
        "list_X = []\n",
        "list_Y_SGD = []\n",
        "for i in range(5):\n",
        "  learning_rate += 0.1\n",
        "  opt = keras.optimizers.SGD(learning_rate)\n",
        "  model.compile(optimizer = opt, \n",
        "                loss=\"sparse_categorical_crossentropy\",\n",
        "                metrics=[\"accuracy\"])\n",
        "  h = model.fit(train_images, train_labels,\n",
        "\t            validation_data=(test_images, test_labels))\n",
        "  list_X.append(learning_rate)\n",
        "  list_Y_SGD.append(h.history['acc'])\n"
      ],
      "execution_count": 0,
      "outputs": [
        {
          "output_type": "stream",
          "text": [
            "Train on 60000 samples, validate on 10000 samples\n",
            "60000/60000 [==============================] - 10s 166us/sample - loss: 0.5339 - acc: 0.8022 - val_loss: 0.4285 - val_acc: 0.8438\n",
            "Train on 60000 samples, validate on 10000 samples\n",
            "60000/60000 [==============================] - 10s 171us/sample - loss: 0.4270 - acc: 0.8428 - val_loss: 0.4379 - val_acc: 0.8300\n",
            "Train on 60000 samples, validate on 10000 samples\n",
            "60000/60000 [==============================] - 10s 162us/sample - loss: 0.4170 - acc: 0.8482 - val_loss: 0.4197 - val_acc: 0.8460\n",
            "Train on 60000 samples, validate on 10000 samples\n",
            "60000/60000 [==============================] - 10s 173us/sample - loss: 0.4119 - acc: 0.8513 - val_loss: 0.4802 - val_acc: 0.8281\n",
            "Train on 60000 samples, validate on 10000 samples\n",
            "60000/60000 [==============================] - 10s 173us/sample - loss: 0.4302 - acc: 0.8444 - val_loss: 0.4467 - val_acc: 0.8383\n"
          ],
          "name": "stdout"
        }
      ]
    },
    {
      "metadata": {
        "id": "_KA2b4p5XZe4",
        "colab_type": "code",
        "colab": {}
      },
      "cell_type": "code",
      "source": [
        ""
      ],
      "execution_count": 0,
      "outputs": []
    },
    {
      "metadata": {
        "id": "ICBDGC3Cm-LL",
        "colab_type": "code",
        "outputId": "de7399a1-27f1-4495-a0b3-1282a477eb78",
        "colab": {
          "base_uri": "https://localhost:8080/",
          "height": 378
        }
      },
      "cell_type": "code",
      "source": [
        "import matplotlib.pyplot as plt\n",
        "plt.plot(list_X, list_Y_SGD,label = 'SGD')\n",
        "plt.xlabel('Learning Rate')\n",
        "plt.ylabel('Accuracy')"
      ],
      "execution_count": 0,
      "outputs": [
        {
          "output_type": "execute_result",
          "data": {
            "text/plain": [
              "Text(0, 0.5, 'Accuracy')"
            ]
          },
          "metadata": {
            "tags": []
          },
          "execution_count": 82
        },
        {
          "output_type": "display_data",
          "data": {
            "image/png": "[encoded data removed]",
            "text/plain": [
              "<Figure size 576x396 with 1 Axes>"
            ]
          },
          "metadata": {
            "tags": []
          }
        }
      ]
    }
  ]
}